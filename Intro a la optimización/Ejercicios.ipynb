{
 "cells": [
  {
   "cell_type": "markdown",
   "metadata": {},
   "source": [
    "# Ejercicios\n",
    "\n",
    "Veamos si podemos aplicar de manera sencilla lo aprendido, explorando distintas vías para obtener la solución a los problemas planteados.\n",
    "\n",
    "## Vallado de un jardin\n",
    "\n",
    "Queremos determinar las medidas $x$ e $y$ que crearán un jardín con una superficie máxima utilizando 100 metros de vallado.\n",
    "\n",
    "![jardin](https://openstax.org/apps/archive/20240603.181933/resources/b628896cf794d3d6e3f4672e01630e4a67ab2005)"
   ]
  },
  {
   "cell_type": "code",
   "execution_count": 7,
   "metadata": {},
   "outputs": [],
   "source": [
    "# 2X + Y = 100\n",
    "# A = x + y\n",
    "\n",
    "def maximizar_area(perimetro):\n",
    "    x = perimetro / 4\n",
    "    y = perimetro / 2 - x\n",
    "    area_maxima = x * y\n",
    "    return x, y, area_maxima"
   ]
  },
  {
   "cell_type": "code",
   "execution_count": 9,
   "metadata": {},
   "outputs": [
    {
     "name": "stdout",
     "output_type": "stream",
     "text": [
      "25.0 25.0\n",
      "625.0\n"
     ]
    }
   ],
   "source": [
    "perimetro = 100\n",
    "x, y, area_maxima = maximizar_area(perimetro)\n",
    "print(x, y)\n",
    "print(area_maxima)"
   ]
  },
  {
   "cell_type": "markdown",
   "metadata": {},
   "source": [
    "# Maximizando ingresos"
   ]
  },
  {
   "cell_type": "markdown",
   "metadata": {},
   "source": [
    "Los propietarios de una empresa de alquiler de coches han determinado que si cobran a los clientes $p$ euros diarios por el alquiler un coche, donde $50 \\le p \\le 200$, el número de coches $n$ que alquilan por día puede ser modelado por la función lineal $n(p)=1.000−5p$. Es decir, dependiendo de $p$, $n$ tomará distintos valores para el número de coches que se alquilarán. Esto implica que el rendimiento total será de $n(p) \\times p$ para un día dado.\n",
    "\n",
    "Si cobran 50€ por día o menos, alquilarán todos sus automóviles. Si cobran 200€ por día o más, no alquilarán ningún automóvil. Suponiendo que los propietarios planeen cobrar a los clientes entre 50 diarios y 200 diarios por el alquiler de un coche, ¿cuánto deberían cobrar para maximizar sus ingresos?"
   ]
  },
  {
   "cell_type": "code",
   "execution_count": 3,
   "metadata": {},
   "outputs": [
    {
     "name": "stdout",
     "output_type": "stream",
     "text": [
      "100\n"
     ]
    }
   ],
   "source": [
    "# n(p)=1.000 − 5p\n",
    "# 1(p) x p\n",
    "\n",
    "def calcular_ingresos(precio_diario):\n",
    "    return 1000 - 5 * precio_diario\n",
    "\n",
    "def calcular_rendimiento_total(precio_diario):\n",
    "    return calcular_ingresos(precio_diario) * precio_diario\n",
    "\n",
    "def encontrar_precio_optimo():\n",
    "    max_ingresos = float(\"-inf\")\n",
    "    precio_optimo = None\n",
    "\n",
    "    for precio in range(50, 201):\n",
    "        ingresos = calcular_rendimiento_total(precio)\n",
    "        if ingresos > max_ingresos:\n",
    "            max_ingresos = ingresos\n",
    "            precio_optimo = precio\n",
    "\n",
    "    return precio_optimo\n",
    "\n",
    "precio_maximo = encontrar_precio_optimo()\n",
    "print(precio_maximo)\n"
   ]
  }
 ],
 "metadata": {
  "kernelspec": {
   "display_name": ".venv",
   "language": "python",
   "name": "python3"
  },
  "language_info": {
   "codemirror_mode": {
    "name": "ipython",
    "version": 3
   },
   "file_extension": ".py",
   "mimetype": "text/x-python",
   "name": "python",
   "nbconvert_exporter": "python",
   "pygments_lexer": "ipython3",
   "version": "3.12.4"
  }
 },
 "nbformat": 4,
 "nbformat_minor": 2
}
